{
 "cells": [
  {
   "cell_type": "markdown",
   "id": "26e6bf39-9a4f-4587-9363-1a9d4bb50cbb",
   "metadata": {},
   "source": [
    "Q1, Create a vehicle class with an init method having instance variables as name_of_vehicle, max_speed\n",
    "and average_of_vehicle."
   ]
  },
  {
   "cell_type": "code",
   "execution_count": 44,
   "id": "92bfb38b-a8a7-4a2d-bd90-f7b4bcdbc897",
   "metadata": {},
   "outputs": [],
   "source": [
    "#Answere:-\n",
    "\n",
    "class vehicle:\n",
    "    \n",
    "    def __init__(self,name_of_vehicle,max_speed,avg):\n",
    "        self.name = name_of_vehicle\n",
    "        self.max_speed  = max_speed\n",
    "        self.avg = avg\n",
    "        \n",
    "    def Max_speed(self):\n",
    "        print(\"Maximum speed of \",self.name,\"is :\",self.max_speed)\n",
    "        \n",
    "    def Average_of_vehicle(self):\n",
    "        print(\"Average speed of \",self.name,\" is :\",self.avg)"
   ]
  },
  {
   "cell_type": "code",
   "execution_count": 45,
   "id": "4e1a92aa-eede-4e92-897b-09941d6e8836",
   "metadata": {},
   "outputs": [],
   "source": [
    "Car1 = vehicle(\"HUNDAI\",\"260\",\"100\")"
   ]
  },
  {
   "cell_type": "code",
   "execution_count": 46,
   "id": "763c55a8-2539-44a8-a82b-babc41856216",
   "metadata": {},
   "outputs": [
    {
     "name": "stdout",
     "output_type": "stream",
     "text": [
      "Maximum speed of  HUNDAI is : 260\n"
     ]
    }
   ],
   "source": [
    "Car1.Max_speed()"
   ]
  },
  {
   "cell_type": "code",
   "execution_count": 47,
   "id": "642b80e3-924f-47fb-af62-cf9efd82e743",
   "metadata": {},
   "outputs": [
    {
     "name": "stdout",
     "output_type": "stream",
     "text": [
      "Average speed of  HUNDAI  is : 100\n"
     ]
    }
   ],
   "source": [
    "Car1.Average_of_vehicle()"
   ]
  },
  {
   "cell_type": "markdown",
   "id": "5b01cb0e-d6ea-4f34-886e-21ed5fe95e78",
   "metadata": {},
   "source": [
    "Q2. Create a child class car from the vehicle class created in Que 1, which will inherit the vehicle class.\n",
    "Create a method named seating_capacity which takes capacity as an argument and returns the name of\n",
    "the vehicle and its seating capacity."
   ]
  },
  {
   "cell_type": "code",
   "execution_count": 48,
   "id": "a6f0047b-d1d7-4fe4-a7e8-27dd279347e0",
   "metadata": {},
   "outputs": [],
   "source": [
    "#Answere :- \n",
    "\n",
    "class Vehicle:\n",
    "    \n",
    "    def __init__(self,name_of_vehicle,max_speed,avg):\n",
    "        self.name = name_of_vehicle\n",
    "        self.max_speed  = max_speed\n",
    "        self.avg = avg\n",
    "        \n",
    "    def Max_speed(self):\n",
    "        print(\"Maximum speed of \",self.name,\"is :\",self.max_speed)\n",
    "        \n",
    "    def Average_of_vehicle(self):\n",
    "        print(\"Average speed of \",self.name,\" is :\",self.avg)"
   ]
  },
  {
   "cell_type": "code",
   "execution_count": 49,
   "id": "7bc22fd2-8c6f-4ae7-8157-5bfb90032421",
   "metadata": {},
   "outputs": [],
   "source": [
    "class Seating_capacity(Vehicle):\n",
    "    \n",
    "    def __init__(self,name_of_vehicle,max_speed,avg,seating_capacity):\n",
    "        self.seat = seating_capacity\n",
    "        Vehicle.__init__(self,name_of_vehicle,max_speed,avg)\n",
    "        \n",
    "    def seats_of_car(self):\n",
    "        print(\"Number of Seats in \",self.name,\" is :\",self.seat)"
   ]
  },
  {
   "cell_type": "code",
   "execution_count": 50,
   "id": "06370306-df01-40ae-ab77-f7c67cade61c",
   "metadata": {},
   "outputs": [],
   "source": [
    "Car1 = Seating_capacity(\"Jaguar\",\"300\",\"170\",\"5\")"
   ]
  },
  {
   "cell_type": "code",
   "execution_count": 51,
   "id": "243dcee5-f352-4a6a-a92e-2b17011f13b9",
   "metadata": {},
   "outputs": [
    {
     "name": "stdout",
     "output_type": "stream",
     "text": [
      "Number of Seats in  Jaguar  is : 5\n"
     ]
    }
   ],
   "source": [
    "Car1.seats_of_car()"
   ]
  },
  {
   "cell_type": "code",
   "execution_count": 52,
   "id": "624e5cd8-d6c5-4159-b359-6669321e8f5f",
   "metadata": {},
   "outputs": [],
   "source": [
    "Car2 = Vehicle(\"Celerio\",\"140\",\"80\")"
   ]
  },
  {
   "cell_type": "code",
   "execution_count": 53,
   "id": "aa8b9d74-71ec-4b9b-935e-554f320ada03",
   "metadata": {},
   "outputs": [
    {
     "name": "stdout",
     "output_type": "stream",
     "text": [
      "Average speed of  Celerio  is : 80\n"
     ]
    }
   ],
   "source": [
    "Car2.Average_of_vehicle()"
   ]
  },
  {
   "cell_type": "markdown",
   "id": "69f987f8-117a-4396-8534-0b2532fe50dc",
   "metadata": {},
   "source": [
    "Q3. What is multiple inheritance? Write a python code to demonstrate multiple inheritance."
   ]
  },
  {
   "cell_type": "markdown",
   "id": "dac35004-f219-46f1-a619-8a6bced1b0c5",
   "metadata": {},
   "source": [
    "Answere:-  Multiple inheritance is a feature of object-oriented programming where a class can inherit properties and methods from multiple parent classes. In Python, you can implement multiple inheritance by specifying multiple parent classes in the class definition using commas.\n",
    "Here's an example Python code that demonstrates multiple inheritance:\n"
   ]
  },
  {
   "cell_type": "code",
   "execution_count": 54,
   "id": "63db911e-526b-4c4c-993c-165704ca8aef",
   "metadata": {},
   "outputs": [],
   "source": [
    "class Animal:\n",
    "    def __init__(self, name):\n",
    "        self.name = name\n",
    "    \n",
    "    def eat(self):\n",
    "        print(self.name + \" is eating.\")\n",
    "\n",
    "class Mammal:\n",
    "    def __init__(self, legs):\n",
    "        self.legs = legs\n",
    "    \n",
    "    def walk(self):\n",
    "        print(\"Walking on \" + str(self.legs) + \" legs.\")\n",
    "    \n",
    "class Dog(Animal, Mammal):\n",
    "    def __init__(self, name, legs):\n",
    "        Animal.__init__(self, name)\n",
    "        Mammal.__init__(self, legs)\n",
    "    \n",
    "    def bark(self):\n",
    "        print(\"Woof!\")\n"
   ]
  },
  {
   "cell_type": "markdown",
   "id": "35eaff4f-d984-454e-ba8c-8f062b7d1b03",
   "metadata": {},
   "source": [
    "In this example, we define three classes: 'Animal', 'Mammal', and 'Dog'. 'Animal' defines a property 'name' and a method 'eat()', while 'Mammal' defines a property 'legs' and a method 'walk()'. 'Dog' inherits from both 'Animal' and 'Mammal' using multiple inheritance and adds a new method 'bark()'.\n",
    "To create an instance of 'Dog', we can write:\n",
    "\n"
   ]
  },
  {
   "cell_type": "code",
   "execution_count": 55,
   "id": "86171500-3bc2-4206-9667-0b985a12f1f9",
   "metadata": {},
   "outputs": [],
   "source": [
    "my_dog = Dog(\"Fido\", 4)"
   ]
  },
  {
   "cell_type": "markdown",
   "id": "c272d5a6-ecce-49fa-a3da-d157ef08f50e",
   "metadata": {},
   "source": [
    "This creates a new Dog object with the name \"Fido\" and four legs. We can then call its methods:"
   ]
  },
  {
   "cell_type": "code",
   "execution_count": 56,
   "id": "260e658e-b404-4913-bf42-114e3bd75cf5",
   "metadata": {},
   "outputs": [
    {
     "name": "stdout",
     "output_type": "stream",
     "text": [
      "Fido is eating.\n",
      "Walking on 4 legs.\n",
      "Woof!\n"
     ]
    }
   ],
   "source": [
    "my_dog.eat()\n",
    "my_dog.walk()\n",
    "my_dog.bark()\n"
   ]
  },
  {
   "cell_type": "markdown",
   "id": "d41e723a-f71f-49ad-b4fd-b393ef12809e",
   "metadata": {},
   "source": [
    "As you can see, 'Dog' inherits both the 'name' property and 'eat()' method from 'Animal' and the 'legs' property and 'walk()' method from 'Mammal'. This allows us to reuse code and create more complex class hierarchies."
   ]
  },
  {
   "cell_type": "markdown",
   "id": "ef69dd58-8d3c-4e3d-af44-01876bf4585a",
   "metadata": {},
   "source": [
    "Q4. What are getter and setter in python? Create a class and create a getter and a setter method in this\n",
    "class."
   ]
  },
  {
   "cell_type": "markdown",
   "id": "77c3c055-2822-45cf-8291-9762897d08d3",
   "metadata": {},
   "source": [
    "#Answere:-  getter and setter are methods used to retrieve and update the values of class attributes.\n",
    "          \n",
    "Getter :-  A getter is a method that is used to retrieve the value of an attribute. It typically has the prefix               \"get\" and returns the value of the attribute.\n",
    "Setter :-  A setter, on the other hand, is a method that is used to update the value of an attribute. It typically            has the prefix \"set\" and takes a parameter that represents the new value of the attribute.             \n",
    "            "
   ]
  },
  {
   "cell_type": "code",
   "execution_count": 132,
   "id": "3311977d-9323-4666-aadd-eaa44494d667",
   "metadata": {},
   "outputs": [
    {
     "name": "stdin",
     "output_type": "stream",
     "text": [
      "Enter the new age :  54\n"
     ]
    }
   ],
   "source": [
    "class Person:\n",
    "    age1 = int(input(\"Enter the new age : \"))\n",
    "    \n",
    "    def __init__(self,name,age):\n",
    "        self.name = name\n",
    "        self.age = age\n",
    "    \n",
    "    def get_age(self):\n",
    "        return self.age \n",
    "    \n",
    "    def set_age(self,age1):\n",
    "        self.age1 = age1\n",
    "        self.age = age1\n",
    "       # print(self.age)\n",
    "        \n",
    "    def Final_output(self):\n",
    "        print(\"Old age is :\",self.age)\n",
    "        self.set_age(self.age1)\n",
    "        print(\"New_age :\",self.get_age())"
   ]
  },
  {
   "cell_type": "code",
   "execution_count": 133,
   "id": "03b327c4-cf1d-4e0c-a2f5-2ec6ab0f331f",
   "metadata": {},
   "outputs": [],
   "source": [
    "Himesh = Person(\"Himesh\",25)"
   ]
  },
  {
   "cell_type": "code",
   "execution_count": 134,
   "id": "e5072ede-c10b-4593-aee3-972423698bb7",
   "metadata": {},
   "outputs": [
    {
     "name": "stdout",
     "output_type": "stream",
     "text": [
      "Old age is : 25\n",
      "New_age : 54\n"
     ]
    }
   ],
   "source": [
    "Himesh.Final_output()"
   ]
  },
  {
   "cell_type": "markdown",
   "id": "6de2ffc8-ce48-4381-9876-38176fc3ac97",
   "metadata": {},
   "source": [
    "Q5.What is method overriding in python? Write a python code to demonstrate method overriding."
   ]
  },
  {
   "cell_type": "markdown",
   "id": "53f7cbc9-49ba-4695-a4c3-fe0ed0627a63",
   "metadata": {},
   "source": [
    "Answere :- Method overriding is a concept in object-oriented programming where a subclass provides its own implementation of a method that is already defined in its superclass. This is done to customize or extend the behavior of the inherited method to better fit the needs of the subclass.\n",
    "In Python, method overriding can be easily accomplished by defining a method with the same name in the subclass as the method in the superclass. When an object of the subclass calls the overridden method, it will use the implementation provided by the subclass instead of the one in the superclass.\n",
    "Here is an example code that demonstrates method overriding in Python:"
   ]
  },
  {
   "cell_type": "code",
   "execution_count": 135,
   "id": "b1f5e981-0fb4-4874-ab9b-8c9113efe56d",
   "metadata": {},
   "outputs": [
    {
     "name": "stdout",
     "output_type": "stream",
     "text": [
      "The animal speaks\n",
      "The dog barks\n"
     ]
    }
   ],
   "source": [
    "class Animal:\n",
    "    def speak(self):\n",
    "        print(\"The animal speaks\")\n",
    "\n",
    "class Dog(Animal):\n",
    "    def speak(self):\n",
    "        print(\"The dog barks\")\n",
    "\n",
    "animal = Animal()\n",
    "animal.speak()  # Output: The animal speaks\n",
    "\n",
    "dog = Dog()\n",
    "dog.speak()  # Output: The dog barks\n"
   ]
  },
  {
   "cell_type": "markdown",
   "id": "0bcb9fcd-00b3-444f-86e4-5a2ce9d28551",
   "metadata": {},
   "source": [
    "In the example code, we have a superclass called 'Animal' with a method 'speak()'. The 'Dog' class is a subclass of 'Animal' and overrides the 'speak()' method with its own implementation. When we create an object of 'Animal' and call its 'speak()' method, it prints \"The animal speaks\". However, when we create an object of 'Dog' and call its 'speak()' method, it prints \"The dog barks\" instead, indicating that the 'Dog' class has successfully overridden the speak()' method of its superclass."
   ]
  }
 ],
 "metadata": {
  "kernelspec": {
   "display_name": "Python 3 (ipykernel)",
   "language": "python",
   "name": "python3"
  },
  "language_info": {
   "codemirror_mode": {
    "name": "ipython",
    "version": 3
   },
   "file_extension": ".py",
   "mimetype": "text/x-python",
   "name": "python",
   "nbconvert_exporter": "python",
   "pygments_lexer": "ipython3",
   "version": "3.10.8"
  }
 },
 "nbformat": 4,
 "nbformat_minor": 5
}
